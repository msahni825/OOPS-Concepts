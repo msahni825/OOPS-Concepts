{
 "cells": [
  {
   "cell_type": "markdown",
   "metadata": {},
   "source": [
    "# Inheritance\n",
    "1. It provides reusability of a code.\n",
    "2. It is transitive in nature, which means that if class B inherits from another class A, then all the subclasses of B would automatically inherit from class A.\n",
    "3. It allows us to add more features to a class without modifying it."
   ]
  },
  {
   "cell_type": "code",
   "execution_count": 72,
   "metadata": {},
   "outputs": [
    {
     "name": "stdout",
     "output_type": "stream",
     "text": [
      "A1 False\n"
     ]
    }
   ],
   "source": [
    "# person inherits from built in basic class 'object'\n",
    "class Person(object):\n",
    "    def __init__(self, name, idnum):\n",
    "        self.name = name\n",
    "        self.idnum = idnum\n",
    "    def getName(self):\n",
    "        return self.name\n",
    "    def isEmployee(self):\n",
    "        return False\n",
    "    def display(self):\n",
    "        print(self.name)\n",
    "        print(self.idnum)\n",
    "        \n",
    "# employee inherits from base class 'Person'  \n",
    "class Employee(Person):\n",
    "    def __int__(self, name, idnum, post, salary):\n",
    "        self.post = post\n",
    "        self.salary = salary\n",
    "        Person.__init__(self, name, idnum)\n",
    "    def isEmployee(self):\n",
    "        return True\n",
    "    \n",
    "emp = Person(\"A1\",5678)\n",
    "print(emp.getName(),emp.isEmployee())\n",
    "\n",
    "# emp = Employee('A2',7890,\"Intern\",10000)\n",
    "# emp.display()"
   ]
  },
  {
   "cell_type": "markdown",
   "metadata": {},
   "source": [
    "# Subclassing\n",
    "1. A child class needs to identify which class is its parent class. This can be done by mentioning the parent class name in the definition of the child class. \n",
    "2. The instance created for the class, invokes the __init__() of the referred class. You can see ‘object’ written in the declaration of the class Person. In Python, every class inherits from a built-in basic class called ‘object’.\n",
    "3. If we forget to invoke the __init__() of the parent class then its instance variables would not be available to the child class. "
   ]
  },
  {
   "cell_type": "code",
   "execution_count": 79,
   "metadata": {
    "collapsed": true
   },
   "outputs": [
    {
     "ename": "AttributeError",
     "evalue": "'B' object has no attribute 'name'",
     "output_type": "error",
     "traceback": [
      "\u001b[1;31m---------------------------------------------------------------------------\u001b[0m",
      "\u001b[1;31mAttributeError\u001b[0m                            Traceback (most recent call last)",
      "\u001b[1;32m<ipython-input-79-2d1070071e6b>\u001b[0m in \u001b[0;36m<module>\u001b[1;34m()\u001b[0m\n\u001b[0;32m     10\u001b[0m \u001b[1;33m\u001b[0m\u001b[0m\n\u001b[0;32m     11\u001b[0m \u001b[0mobj\u001b[0m \u001b[1;33m=\u001b[0m \u001b[0mB\u001b[0m\u001b[1;33m(\u001b[0m\u001b[1;36m23\u001b[0m\u001b[1;33m,\u001b[0m\u001b[1;36m67\u001b[0m\u001b[1;33m)\u001b[0m\u001b[1;33m\u001b[0m\u001b[0m\n\u001b[1;32m---> 12\u001b[1;33m \u001b[0mprint\u001b[0m \u001b[1;33m(\u001b[0m\u001b[0mobj\u001b[0m\u001b[1;33m.\u001b[0m\u001b[0mname\u001b[0m\u001b[1;33m,\u001b[0m \u001b[0mobj\u001b[0m\u001b[1;33m.\u001b[0m\u001b[0mroll\u001b[0m\u001b[1;33m)\u001b[0m\u001b[1;33m\u001b[0m\u001b[0m\n\u001b[0m",
      "\u001b[1;31mAttributeError\u001b[0m: 'B' object has no attribute 'name'"
     ]
    }
   ],
   "source": [
    "# Python program to demonstrate error if we forget to invoke __init__() of the parent.\n",
    "  \n",
    "class A:\n",
    "      def __init__(self, n = 'Rahul'):\n",
    "              self.name = n\n",
    "class B(A):\n",
    "      def __init__(self, n, roll):\n",
    "            self.roll = roll \n",
    "#             A.__init__(self,n)\n",
    "                \n",
    "obj = B(23,67)\n",
    "print (obj.name, obj.roll)"
   ]
  },
  {
   "cell_type": "markdown",
   "metadata": {},
   "source": [
    "# Types of Inheritance\n",
    "1. Simple Inheritance:  When a child class inherits from only one parent class, it is called single inheritance. We saw an example above.\n",
    "\n",
    "2. Multiple Inheritance:  When a child class inherits from multiple parent classes. Unlike Java and like C++, Python supports multiple inheritance.\n",
    "\n",
    "3. Multilevel Inheritance: When we have a child and grandchild relationship.\n",
    "\n",
    "4. Hierarchial Inheritance: More than one derived classes are created from a single base.\n",
    "\n",
    "5. Hybrid Inheritance: This form combines more than one form of inheritance. Basically, it is a blend of more than one type of inheritance."
   ]
  },
  {
   "cell_type": "markdown",
   "metadata": {},
   "source": [
    "# Multiple Inheritance"
   ]
  },
  {
   "cell_type": "code",
   "execution_count": 93,
   "metadata": {},
   "outputs": [
    {
     "name": "stdout",
     "output_type": "stream",
     "text": [
      "Derived class\n",
      "Base class 2\n",
      "Base class 1\n",
      "Sahni\n",
      "Sahni\n"
     ]
    }
   ],
   "source": [
    "class A(object):\n",
    "    def __init__(self, name):\n",
    "        self.name = name\n",
    "        self.__salary = 4200000 #private member of the class\n",
    "        print(\"Base class 1\")\n",
    "        \n",
    "class B(object):\n",
    "    def __init__(self, name):\n",
    "        self.name = name\n",
    "        print(\"Base class 2\")\n",
    "        \n",
    "class C(A, B):\n",
    "    def __init__(self):\n",
    "        print(\"Derived class\")\n",
    "        B.__init__(self,\"Me\")\n",
    "        A.__init__(self,\"Sahni\")\n",
    "        \n",
    "    def printNames(self):\n",
    "        print(self.name)\n",
    "        print(self.name)\n",
    "        # B class not called\n",
    "ob = C()\n",
    "ob.printNames()\n",
    "# print(ob.salary) # private member of base class cannot be accessed by derived class object"
   ]
  },
  {
   "cell_type": "markdown",
   "metadata": {},
   "source": [
    "# Multilevel Inheritance"
   ]
  },
  {
   "cell_type": "code",
   "execution_count": 94,
   "metadata": {},
   "outputs": [
    {
     "name": "stdout",
     "output_type": "stream",
     "text": [
      "Infy 23 U.P.\n"
     ]
    }
   ],
   "source": [
    "class A(object):\n",
    "      \n",
    "    # Constructor\n",
    "    def __init__(self, name):\n",
    "        self.name = name\n",
    "  \n",
    "    # To get name\n",
    "    def getName(self):\n",
    "        return self.name\n",
    "  \n",
    "  \n",
    "# Inherited or Sub class \n",
    "class B(A):\n",
    "      \n",
    "    # Constructor\n",
    "    def __init__(self, name, age):\n",
    "        A.__init__(self, name)\n",
    "        self.age = age\n",
    "  \n",
    "    # To get name\n",
    "    def getAge(self):\n",
    "        return self.age\n",
    "    \n",
    "# Inherited or Sub class \n",
    "class GrandC(B):\n",
    "      \n",
    "    # Constructor\n",
    "    def __init__(self, name, age, address):\n",
    "        B.__init__(self, name, age)\n",
    "        self.address = address\n",
    "  \n",
    "    # To get address\n",
    "    def getAddress(self):\n",
    "        return self.address        \n",
    "    \n",
    "# Driver code\n",
    "g = GrandC(\"Infy\", 23, \"U.P.\")  \n",
    "print(g.getName(), g.getAge(), g.getAddress())"
   ]
  },
  {
   "cell_type": "code",
   "execution_count": null,
   "metadata": {},
   "outputs": [],
   "source": []
  }
 ],
 "metadata": {
  "kernelspec": {
   "display_name": "Python 3",
   "language": "python",
   "name": "python3"
  },
  "language_info": {
   "codemirror_mode": {
    "name": "ipython",
    "version": 3
   },
   "file_extension": ".py",
   "mimetype": "text/x-python",
   "name": "python",
   "nbconvert_exporter": "python",
   "pygments_lexer": "ipython3",
   "version": "3.7.0"
  }
 },
 "nbformat": 4,
 "nbformat_minor": 2
}
