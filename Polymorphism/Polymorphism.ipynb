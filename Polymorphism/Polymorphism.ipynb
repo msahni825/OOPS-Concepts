{
 "cells": [
  {
   "cell_type": "markdown",
   "metadata": {},
   "source": [
    "# Polymorphism\n",
    "1. The word polymorphism means having many forms. \n",
    "2. In programming, polymorphism means the same function name (but different signatures) being used for different types."
   ]
  },
  {
   "cell_type": "code",
   "execution_count": 4,
   "metadata": {},
   "outputs": [
    {
     "name": "stdout",
     "output_type": "stream",
     "text": [
      "6\n",
      "13\n"
     ]
    }
   ],
   "source": [
    "def add(x, y, z = 1):\n",
    "    return x + y+z\n",
    " \n",
    "# Driver code\n",
    "print(add(2, 3))\n",
    "print(add(2, 3, 8))"
   ]
  },
  {
   "cell_type": "code",
   "execution_count": 6,
   "metadata": {},
   "outputs": [
    {
     "name": "stdout",
     "output_type": "stream",
     "text": [
      "<__main__.Computer object at 0x0000000F33863A90>\n",
      "Applications\n",
      "Addresses\n",
      "Computers=hardware + software\n",
      "<__main__.Computer object at 0x0000000F33863A90>\n",
      "Soul\n",
      "Mind\n",
      "Body=soul + mind\n"
     ]
    }
   ],
   "source": [
    "class Computer():\n",
    "    def software(self):\n",
    "        print(\"Applications\")\n",
    " \n",
    "    def hardware(self):\n",
    "        print(\"Addresses\")\n",
    " \n",
    "    def type(self):\n",
    "        print(\"Computers=hardware + software\")\n",
    "        \n",
    "class Body():\n",
    "    def software(self):\n",
    "        print(\"Soul\")\n",
    " \n",
    "    def hardware(self):\n",
    "        print(\"Mind\")\n",
    " \n",
    "    def type(self):\n",
    "        print(\"Body=soul + mind\")\n",
    "        \n",
    "obj_comp = Computer()\n",
    "obj_body = Body()\n",
    "for val in (obj_comp, obj_body):\n",
    "    print(obj_comp)\n",
    "    val.software()\n",
    "    val.hardware()\n",
    "    val.type()"
   ]
  },
  {
   "cell_type": "markdown",
   "metadata": {},
   "source": [
    "# Polymorphism with a function "
   ]
  },
  {
   "cell_type": "code",
   "execution_count": 8,
   "metadata": {},
   "outputs": [
    {
     "name": "stdout",
     "output_type": "stream",
     "text": [
      "Applications\n",
      "Addresses\n",
      "Computers=hardware + software\n",
      "Soul\n",
      "Mind\n",
      "Body=soul + mind\n"
     ]
    }
   ],
   "source": [
    "class Computer():\n",
    "    def software(self):\n",
    "        print(\"Applications\")\n",
    " \n",
    "    def hardware(self):\n",
    "        print(\"Addresses\")\n",
    " \n",
    "    def type(self):\n",
    "        print(\"Computers=hardware + software\")\n",
    "        \n",
    "class Body():\n",
    "    def software(self):\n",
    "        print(\"Soul\")\n",
    " \n",
    "    def hardware(self):\n",
    "        print(\"Mind\")\n",
    " \n",
    "    def type(self):\n",
    "        print(\"Body=soul + mind\")\n",
    "        \n",
    "def func(val):\n",
    "    val.software()\n",
    "    val.hardware()\n",
    "    val.type()\n",
    "    \n",
    "obj_comp = Computer()\n",
    "obj_body = Body()\n",
    "\n",
    "func(obj_comp)\n",
    "func(obj_body)\n",
    "\n",
    "# for val in (obj_comp, obj_body):\n",
    "#     print(obj_comp)\n",
    "#     val.software()\n",
    "#     val.hardware()\n",
    "#     val.type()"
   ]
  },
  {
   "cell_type": "markdown",
   "metadata": {},
   "source": [
    "# Polymorphism with Inheritance \n",
    "1. Polymorphism lets us define methods in the child class that have the same name as the methods in the parent class. In inheritance, the child class inherits the methods from the parent class.\n",
    "2. However, it is possible to modify a method in a child class that it has inherited from the parent class. \n",
    "3. This is particularly useful in cases where the method inherited from the parent class doesn’t quite fit the child class.\n",
    "4. We re-implement the method in the child class. This process of re-implementing a method in the child class is known as Method Overriding. \n"
   ]
  },
  {
   "cell_type": "code",
   "execution_count": 10,
   "metadata": {},
   "outputs": [
    {
     "name": "stdout",
     "output_type": "stream",
     "text": [
      "There are many types of birds.\n",
      "Most of the birds can fly but some cannot.\n",
      "Sparrows can fly.\n",
      "Ostriches cannot fly.\n"
     ]
    }
   ],
   "source": [
    "class Bird:\n",
    "      def intro(self):\n",
    "        print(\"There are many types of birds.\")\n",
    "     \n",
    "      def flight(self):\n",
    "        print(\"Most of the birds can fly but some cannot.\")\n",
    "        \n",
    "class sparrow(Bird):\n",
    "      def flight(self):\n",
    "        print(\"Sparrows can fly.\")\n",
    "        \n",
    "class ostrich(Bird):\n",
    "      def flight(self):\n",
    "        print(\"Ostriches cannot fly.\")\n",
    "        \n",
    "obj_bird = Bird()\n",
    "obj_spr = sparrow()\n",
    "obj_ost = ostrich()\n",
    " \n",
    "obj_bird.intro()\n",
    "obj_bird.flight()\n",
    " \n",
    "# obj_spr.intro()\n",
    "obj_spr.flight()\n",
    " \n",
    "# obj_ost.intro()\n",
    "obj_ost.flight()"
   ]
  },
  {
   "cell_type": "code",
   "execution_count": null,
   "metadata": {},
   "outputs": [],
   "source": []
  }
 ],
 "metadata": {
  "kernelspec": {
   "display_name": "Python 3",
   "language": "python",
   "name": "python3"
  },
  "language_info": {
   "codemirror_mode": {
    "name": "ipython",
    "version": 3
   },
   "file_extension": ".py",
   "mimetype": "text/x-python",
   "name": "python",
   "nbconvert_exporter": "python",
   "pygments_lexer": "ipython3",
   "version": "3.7.0"
  }
 },
 "nbformat": 4,
 "nbformat_minor": 2
}
